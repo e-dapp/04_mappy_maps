{
 "metadata": {
  "name": ""
 },
 "nbformat": 3,
 "nbformat_minor": 0,
 "worksheets": [
  {
   "cells": [
    {
     "cell_type": "markdown",
     "metadata": {},
     "source": [
      "Today, we're going to continue working on the data that can be found at https://catalog.data.gov/dataset/table-iii-deaths-in-122-u-s-cities. We're going to try a very different kind of visualization to what we've been doing up till now. As per ushe, let's start with a summary of what we've done till now."
     ]
    },
    {
     "cell_type": "code",
     "collapsed": false,
     "input": [
      "%matplotlib inline\n",
      "import pandas as pd\n",
      "import numpy as np\n",
      "import matplotlib as mpl\n",
      "import matplotlib.pyplot as plt\n",
      "import seaborn as sns\n",
      "\n",
      "deaths = pd.read_csv('./data/deaths.csv')\n",
      "deaths_no_flag = deaths.drop([col for col in deaths.columns if 'flag' in col], axis = 1)\n",
      "\n",
      "areas = {}\n",
      "unique_areas = pd.unique(deaths_no_flag['Reporting Area'].ravel())\n",
      "for area in unique_areas:\n",
      "    areas[area] = deaths_no_flag[deaths_no_flag['Reporting Area'] == area]\n",
      "\n",
      "for area in unique_areas:\n",
      "    areas[area] = areas[area].set_index(areas[area]['MMWR WEEK'])\n",
      "for area in unique_areas:\n",
      "    areas[area] = areas[area].drop([col for col in areas[area].columns if 'MMWR' in col], axis = 1)\n",
      "    \n",
      "weeks = {}\n",
      "unique_weeks = pd.unique(deaths_no_flag['MMWR WEEK'])\n",
      "for week in unique_weeks:\n",
      "    weeks[week] = deaths_no_flag[deaths_no_flag['MMWR WEEK'] == week]\n",
      "\n",
      "for week in unique_weeks:\n",
      "    weeks[week] = weeks[week][weeks[week]['Reporting Area'] != 'Total\\xc2\\xb6']\n",
      "\n",
      "super_regions = ['New England', 'Mid. Atlantic', 'E.N. Central', \n",
      "                 'W.N. Central', 'S. Atlantic', 'E.S. Central', 'W.S. Central',\n",
      "                 'Mountain', 'Pacific']\n",
      "\n",
      "for week in unique_weeks:\n",
      "    weeks[week] = weeks[week].drop([row for row in weeks[week].index \n",
      "                    if weeks[week]['Reporting Area'].ix[row] in super_regions], axis = 0)\n",
      "    \n",
      "weeks_sorted = {}\n",
      "for week in unique_weeks:\n",
      "    weeks_sorted[week] = weeks[week].sort('All causes, by age (years), All Ages', ascending = False)\n",
      "\n",
      "def quick_sorted_bar(n, e):\n",
      "    '''takes n = int, e = int\n",
      "        plots top e cities for week n'''\n",
      "    \n",
      "    plt.figure(figsize=(15, 10))\n",
      "    fig = sns.barplot(x = weeks_sorted[n][:e]['Reporting Area'], \n",
      "                      y = weeks_sorted[n][:e]['All causes, by age (years), All Ages'])\n",
      "    fig.set(xlabel = 'Reporting Area', ylabel = 'Deaths - All Ages')\n",
      "\n",
      "for week in unique_weeks:\n",
      "    weeks_sorted[week] = weeks_sorted[week][pd.notnull(weeks_sorted[week]['All causes, by age (years), All Ages'])]\n",
      "\n",
      "areas_pi = {}\n",
      "for area in unique_areas:\n",
      "    areas_pi[area] = areas[area][['Reporting Area', 'All causes, by age (years), All Ages', 'P&I\u2020 Total']]\n",
      "    \n",
      "for area in unique_areas:\n",
      "    areas_pi[area].columns = ['area', 'deaths', 'p&i']\n",
      "\n",
      "for area in unique_areas:\n",
      "    areas_pi[area]['%'] = 100.0 * areas_pi[area]['p&i'] / areas_pi[area]['deaths']\n",
      "\n",
      "def bar_graph2(x, y, x_lab, y_lab, h = None):\n",
      "    '''takes pd.Series: x, y; str: x_lab, y_lab\n",
      "        and pd.Series h for hue catagories\n",
      "        which we're using as labels'''\n",
      "    \n",
      "    plt.figure(figsize=(15, 10))\n",
      "    fig = sns.barplot(x = x, \n",
      "                      y = y,\n",
      "                      hue = h)\n",
      "    fig.set(xlabel = x_lab, ylabel = y_lab)\n",
      "\n",
      "areas_pi['Total'] = areas_pi.pop('Total\\xc2\\xb6')\n",
      "areas_pi['Total'] = areas_pi['Total'].replace('Total\\xc2\\xb6', 'Total')\n",
      "\n",
      "bar_graph2(areas_pi['Total'].index, \n",
      "          areas_pi['Total']['%'], \n",
      "          'Week in Year', '% P&I',\n",
      "          areas_pi['Total']['area'])"
     ],
     "language": "python",
     "metadata": {},
     "outputs": [
      {
       "metadata": {},
       "output_type": "display_data",
       "png": "[encoded data removed]",
       "text": [
        "<matplotlib.figure.Figure at 0x7f92dc302c50>"
       ]
      }
     ],
     "prompt_number": 27
    },
    {
     "cell_type": "markdown",
     "metadata": {},
     "source": [
      "The above graph shows the percentage of all deaths that are Pneumonia and Influenza related over all of the reporting cities. Recall that this data is the reported deaths over the year of 2014 across 122 US cities. So, we've done all kinds of good stuff, mostly cleaning up data and sorting them into easily traversable dictionaries indexed by either the reporting area or the week in the year. We then created some simple visualizations of data we could pull from these dictionaries. "
     ]
    },
    {
     "cell_type": "markdown",
     "metadata": {},
     "source": [
      "Aside from some more data cleansing, this post is going to mostly serve the purpose of introducing a new tool (new to this blog, that is) that we are going to use later to make a very different kind of visualization. That tool is the matplotlib package Basemap."
     ]
    },
    {
     "cell_type": "code",
     "collapsed": false,
     "input": [
      "from mpl_toolkits.basemap import Basemap"
     ],
     "language": "python",
     "metadata": {},
     "outputs": [],
     "prompt_number": 28
    },
    {
     "cell_type": "markdown",
     "metadata": {},
     "source": [
      "Basemap is a package that allows us to easily create maps (like actual cartographic maps). Let's take a look at some of the data again just to get an idea of what we're looking at."
     ]
    },
    {
     "cell_type": "code",
     "collapsed": false,
     "input": [
      "deaths_no_flag[:5]"
     ],
     "language": "python",
     "metadata": {},
     "outputs": [
      {
       "html": [
        "<div style=\"max-height:1000px;max-width:1500px;overflow:auto;\">\n",
        "<table border=\"1\" class=\"dataframe\">\n",
        "  <thead>\n",
        "    <tr style=\"text-align: right;\">\n",
        "      <th></th>\n",
        "      <th>Reporting Area</th>\n",
        "      <th>MMWR YEAR</th>\n",
        "      <th>MMWR WEEK</th>\n",
        "      <th>All causes, by age (years), All Ages</th>\n",
        "      <th>All causes, by age (years), GE 65</th>\n",
        "      <th>All causes, by age (years), 45\u201364</th>\n",
        "      <th>All causes, by age (years), 25\u201344</th>\n",
        "      <th>All causes, by age (years), 1\u201324</th>\n",
        "      <th>All causes, by age (years), LT 1</th>\n",
        "      <th>P&amp;I\u2020 Total</th>\n",
        "      <th>Location 1</th>\n",
        "      <th>Location 2</th>\n",
        "    </tr>\n",
        "  </thead>\n",
        "  <tbody>\n",
        "    <tr>\n",
        "      <th>0</th>\n",
        "      <td>    New England</td>\n",
        "      <td> 2014</td>\n",
        "      <td> 1</td>\n",
        "      <td> 517</td>\n",
        "      <td> 373</td>\n",
        "      <td> 108</td>\n",
        "      <td> 23</td>\n",
        "      <td>  5</td>\n",
        "      <td>  8</td>\n",
        "      <td> 36</td>\n",
        "      <td>                                               NaN</td>\n",
        "      <td>NaN</td>\n",
        "    </tr>\n",
        "    <tr>\n",
        "      <th>1</th>\n",
        "      <td>     Boston, MA</td>\n",
        "      <td> 2014</td>\n",
        "      <td> 1</td>\n",
        "      <td> 108</td>\n",
        "      <td>  77</td>\n",
        "      <td>  18</td>\n",
        "      <td>  7</td>\n",
        "      <td>  2</td>\n",
        "      <td>  4</td>\n",
        "      <td>  6</td>\n",
        "      <td> Boston, MA\\n(42.35866170200046, -71.0567388769...</td>\n",
        "      <td>NaN</td>\n",
        "    </tr>\n",
        "    <tr>\n",
        "      <th>2</th>\n",
        "      <td> Bridgeport, CT</td>\n",
        "      <td> 2014</td>\n",
        "      <td> 1</td>\n",
        "      <td>  42</td>\n",
        "      <td>  28</td>\n",
        "      <td>  12</td>\n",
        "      <td>  2</td>\n",
        "      <td>NaN</td>\n",
        "      <td>NaN</td>\n",
        "      <td>  2</td>\n",
        "      <td> Bridgeport, CT\\n(41.1818843100005, -73.1912691...</td>\n",
        "      <td>NaN</td>\n",
        "    </tr>\n",
        "    <tr>\n",
        "      <th>3</th>\n",
        "      <td>  Cambridge, MA</td>\n",
        "      <td> 2014</td>\n",
        "      <td> 1</td>\n",
        "      <td>  19</td>\n",
        "      <td>  17</td>\n",
        "      <td>   1</td>\n",
        "      <td>  1</td>\n",
        "      <td>NaN</td>\n",
        "      <td>NaN</td>\n",
        "      <td>NaN</td>\n",
        "      <td> Cambridge, MA\\n(42.36679009800048, -71.1060094...</td>\n",
        "      <td>NaN</td>\n",
        "    </tr>\n",
        "    <tr>\n",
        "      <th>4</th>\n",
        "      <td> Fall River, MA</td>\n",
        "      <td> 2014</td>\n",
        "      <td> 1</td>\n",
        "      <td>  20</td>\n",
        "      <td>  17</td>\n",
        "      <td>   3</td>\n",
        "      <td>NaN</td>\n",
        "      <td>NaN</td>\n",
        "      <td>NaN</td>\n",
        "      <td>  4</td>\n",
        "      <td> Fall River, MA\\n(41.697354146000464, -71.14364...</td>\n",
        "      <td>NaN</td>\n",
        "    </tr>\n",
        "  </tbody>\n",
        "</table>\n",
        "<p>5 rows \u00d7 12 columns</p>\n",
        "</div>"
       ],
       "metadata": {},
       "output_type": "pyout",
       "prompt_number": 29,
       "text": [
        "   Reporting Area  MMWR YEAR  MMWR WEEK  All causes, by age (years), All Ages  \\\n",
        "0     New England       2014          1                                   517   \n",
        "1      Boston, MA       2014          1                                   108   \n",
        "2  Bridgeport, CT       2014          1                                    42   \n",
        "3   Cambridge, MA       2014          1                                    19   \n",
        "4  Fall River, MA       2014          1                                    20   \n",
        "\n",
        "   All causes, by age (years), GE 65  All causes, by age (years), 45\u201364  \\\n",
        "0                                373                                108   \n",
        "1                                 77                                 18   \n",
        "2                                 28                                 12   \n",
        "3                                 17                                  1   \n",
        "4                                 17                                  3   \n",
        "\n",
        "   All causes, by age (years), 25\u201344  All causes, by age (years), 1\u201324  \\\n",
        "0                                 23                                 5   \n",
        "1                                  7                                 2   \n",
        "2                                  2                               NaN   \n",
        "3                                  1                               NaN   \n",
        "4                                NaN                               NaN   \n",
        "\n",
        "   All causes, by age (years), LT 1  P&I\u2020 Total  \\\n",
        "0                                 8          36   \n",
        "1                                 4           6   \n",
        "2                               NaN           2   \n",
        "3                               NaN         NaN   \n",
        "4                               NaN           4   \n",
        "\n",
        "                                          Location 1  Location 2  \n",
        "0                                                NaN         NaN  \n",
        "1  Boston, MA\\n(42.35866170200046, -71.0567388769...         NaN  \n",
        "2  Bridgeport, CT\\n(41.1818843100005, -73.1912691...         NaN  \n",
        "3  Cambridge, MA\\n(42.36679009800048, -71.1060094...         NaN  \n",
        "4  Fall River, MA\\n(41.697354146000464, -71.14364...         NaN  \n",
        "\n",
        "[5 rows x 12 columns]"
       ]
      }
     ],
     "prompt_number": 29
    },
    {
     "cell_type": "markdown",
     "metadata": {},
     "source": [
      "Of particular interest, take a look at the column 'Location 1'. Aside from apparently reiterating the 'Reporting Area' column, we also have the latitude and longitude of the reporting area. There are two things to consider here, we're going to have to (1) parse out the latitude and longitude from the the rest of the string and (2) realize that we're still dealing with a string and turn those guys into something useful, in this instance: floats."
     ]
    },
    {
     "cell_type": "markdown",
     "metadata": {},
     "source": [
      "Before we do that, let's limit the scope of what we're looking at and just pull the columns we'll want."
     ]
    },
    {
     "cell_type": "code",
     "collapsed": false,
     "input": [
      "d_loc = deaths_no_flag[['Reporting Area', 'All causes, by age (years), All Ages', 'Location 1']]\n",
      "d_loc.columns = ['area', 'deaths', 'loc']"
     ],
     "language": "python",
     "metadata": {},
     "outputs": [],
     "prompt_number": 30
    },
    {
     "cell_type": "code",
     "collapsed": false,
     "input": [
      "d_loc[:5]"
     ],
     "language": "python",
     "metadata": {},
     "outputs": [
      {
       "html": [
        "<div style=\"max-height:1000px;max-width:1500px;overflow:auto;\">\n",
        "<table border=\"1\" class=\"dataframe\">\n",
        "  <thead>\n",
        "    <tr style=\"text-align: right;\">\n",
        "      <th></th>\n",
        "      <th>area</th>\n",
        "      <th>deaths</th>\n",
        "      <th>loc</th>\n",
        "    </tr>\n",
        "  </thead>\n",
        "  <tbody>\n",
        "    <tr>\n",
        "      <th>0</th>\n",
        "      <td>    New England</td>\n",
        "      <td> 517</td>\n",
        "      <td>                                               NaN</td>\n",
        "    </tr>\n",
        "    <tr>\n",
        "      <th>1</th>\n",
        "      <td>     Boston, MA</td>\n",
        "      <td> 108</td>\n",
        "      <td> Boston, MA\\n(42.35866170200046, -71.0567388769...</td>\n",
        "    </tr>\n",
        "    <tr>\n",
        "      <th>2</th>\n",
        "      <td> Bridgeport, CT</td>\n",
        "      <td>  42</td>\n",
        "      <td> Bridgeport, CT\\n(41.1818843100005, -73.1912691...</td>\n",
        "    </tr>\n",
        "    <tr>\n",
        "      <th>3</th>\n",
        "      <td>  Cambridge, MA</td>\n",
        "      <td>  19</td>\n",
        "      <td> Cambridge, MA\\n(42.36679009800048, -71.1060094...</td>\n",
        "    </tr>\n",
        "    <tr>\n",
        "      <th>4</th>\n",
        "      <td> Fall River, MA</td>\n",
        "      <td>  20</td>\n",
        "      <td> Fall River, MA\\n(41.697354146000464, -71.14364...</td>\n",
        "    </tr>\n",
        "  </tbody>\n",
        "</table>\n",
        "<p>5 rows \u00d7 3 columns</p>\n",
        "</div>"
       ],
       "metadata": {},
       "output_type": "pyout",
       "prompt_number": 31,
       "text": [
        "             area  deaths                                                loc\n",
        "0     New England     517                                                NaN\n",
        "1      Boston, MA     108  Boston, MA\\n(42.35866170200046, -71.0567388769...\n",
        "2  Bridgeport, CT      42  Bridgeport, CT\\n(41.1818843100005, -73.1912691...\n",
        "3   Cambridge, MA      19  Cambridge, MA\\n(42.36679009800048, -71.1060094...\n",
        "4  Fall River, MA      20  Fall River, MA\\n(41.697354146000464, -71.14364...\n",
        "\n",
        "[5 rows x 3 columns]"
       ]
      }
     ],
     "prompt_number": 31
    },
    {
     "cell_type": "markdown",
     "metadata": {},
     "source": [
      "Note that the areas that we previously defined as 'super_regions' have a NaN (or Not a Number) value in the loc column. These are obviously not going to be super useful to us for this post, so let's get rid of them. There are two ways we can do this. We could drop the rows where the the value in the area column is in super_regions or (what we're going to do) just take the rows where the loc column is not NaN. We'll do this because pandas has a lovely way of picking out values that are not null, appropriately called notnull."
     ]
    },
    {
     "cell_type": "code",
     "collapsed": false,
     "input": [
      "d_loc = d_loc[pd.notnull(d_loc['loc'])]"
     ],
     "language": "python",
     "metadata": {},
     "outputs": [],
     "prompt_number": 32
    },
    {
     "cell_type": "code",
     "collapsed": false,
     "input": [
      "d_loc[:5]"
     ],
     "language": "python",
     "metadata": {},
     "outputs": [
      {
       "html": [
        "<div style=\"max-height:1000px;max-width:1500px;overflow:auto;\">\n",
        "<table border=\"1\" class=\"dataframe\">\n",
        "  <thead>\n",
        "    <tr style=\"text-align: right;\">\n",
        "      <th></th>\n",
        "      <th>area</th>\n",
        "      <th>deaths</th>\n",
        "      <th>loc</th>\n",
        "    </tr>\n",
        "  </thead>\n",
        "  <tbody>\n",
        "    <tr>\n",
        "      <th>1</th>\n",
        "      <td>     Boston, MA</td>\n",
        "      <td> 108</td>\n",
        "      <td> Boston, MA\\n(42.35866170200046, -71.0567388769...</td>\n",
        "    </tr>\n",
        "    <tr>\n",
        "      <th>2</th>\n",
        "      <td> Bridgeport, CT</td>\n",
        "      <td>  42</td>\n",
        "      <td> Bridgeport, CT\\n(41.1818843100005, -73.1912691...</td>\n",
        "    </tr>\n",
        "    <tr>\n",
        "      <th>3</th>\n",
        "      <td>  Cambridge, MA</td>\n",
        "      <td>  19</td>\n",
        "      <td> Cambridge, MA\\n(42.36679009800048, -71.1060094...</td>\n",
        "    </tr>\n",
        "    <tr>\n",
        "      <th>4</th>\n",
        "      <td> Fall River, MA</td>\n",
        "      <td>  20</td>\n",
        "      <td> Fall River, MA\\n(41.697354146000464, -71.14364...</td>\n",
        "    </tr>\n",
        "    <tr>\n",
        "      <th>5</th>\n",
        "      <td>   Hartford, CT</td>\n",
        "      <td>  45</td>\n",
        "      <td> Hartford, CT\\n(41.763493388000484, -72.6740172...</td>\n",
        "    </tr>\n",
        "  </tbody>\n",
        "</table>\n",
        "<p>5 rows \u00d7 3 columns</p>\n",
        "</div>"
       ],
       "metadata": {},
       "output_type": "pyout",
       "prompt_number": 33,
       "text": [
        "             area  deaths                                                loc\n",
        "1      Boston, MA     108  Boston, MA\\n(42.35866170200046, -71.0567388769...\n",
        "2  Bridgeport, CT      42  Bridgeport, CT\\n(41.1818843100005, -73.1912691...\n",
        "3   Cambridge, MA      19  Cambridge, MA\\n(42.36679009800048, -71.1060094...\n",
        "4  Fall River, MA      20  Fall River, MA\\n(41.697354146000464, -71.14364...\n",
        "5    Hartford, CT      45  Hartford, CT\\n(41.763493388000484, -72.6740172...\n",
        "\n",
        "[5 rows x 3 columns]"
       ]
      }
     ],
     "prompt_number": 33
    },
    {
     "cell_type": "markdown",
     "metadata": {},
     "source": [
      "Good stuff, now we're going to take a little leap of faith and hope that all of the data in the loc column is in the same format so that we can separate them all out in a consistent way. "
     ]
    },
    {
     "cell_type": "markdown",
     "metadata": {},
     "source": [
      "Now something useful for us here, python string functions can be used inside a pandas dataframe. In particular, the split function will parse out our strings into lists, we can then take these lists and put the entries into their own columns. Let's write a function to accomplish this, because we never know when we'll want to do it again."
     ]
    },
    {
     "cell_type": "code",
     "collapsed": false,
     "input": [
      "def split_col(a, c, d, new_col1 = '1', new_col2 = '2'):\n",
      "    ''' Takes dataframe a, column name string c, \n",
      "        delimiter string d.\n",
      "        Returns dataframe with two extra columns, having split\n",
      "        the strings in c at the first instance of the delimiter.\n",
      "        New column names default to '1' and '2'.\n",
      "    '''\n",
      "    \n",
      "    s = a[c]\n",
      "    b = a\n",
      "    b[new_col1] = b.index\n",
      "    b[new_col2] = b.index\n",
      "    split = s.str.split(d, 1)\n",
      "    for row in b.index:\n",
      "        if len(split[row]) == 2:\n",
      "            b[new_col1].ix[row] = split[row][0]\n",
      "            b[new_col2].ix[row] = split[row][1]\n",
      "        else:\n",
      "            b[new_col1].ix[row] = ''\n",
      "            b[new_col2].ix[row] = ''\n",
      "    return b"
     ],
     "language": "python",
     "metadata": {},
     "outputs": [],
     "prompt_number": 34
    },
    {
     "cell_type": "markdown",
     "metadata": {},
     "source": [
      "Test time!"
     ]
    },
    {
     "cell_type": "code",
     "collapsed": false,
     "input": [
      "split_col(d_loc, 'loc', '\\n')[:5]"
     ],
     "language": "python",
     "metadata": {},
     "outputs": [
      {
       "html": [
        "<div style=\"max-height:1000px;max-width:1500px;overflow:auto;\">\n",
        "<table border=\"1\" class=\"dataframe\">\n",
        "  <thead>\n",
        "    <tr style=\"text-align: right;\">\n",
        "      <th></th>\n",
        "      <th>area</th>\n",
        "      <th>deaths</th>\n",
        "      <th>loc</th>\n",
        "      <th>1</th>\n",
        "      <th>2</th>\n",
        "    </tr>\n",
        "  </thead>\n",
        "  <tbody>\n",
        "    <tr>\n",
        "      <th>1</th>\n",
        "      <td>     Boston, MA</td>\n",
        "      <td> 108</td>\n",
        "      <td> Boston, MA\\n(42.35866170200046, -71.0567388769...</td>\n",
        "      <td>     Boston, MA</td>\n",
        "      <td>  (42.35866170200046, -71.05673887699965)</td>\n",
        "    </tr>\n",
        "    <tr>\n",
        "      <th>2</th>\n",
        "      <td> Bridgeport, CT</td>\n",
        "      <td>  42</td>\n",
        "      <td> Bridgeport, CT\\n(41.1818843100005, -73.1912691...</td>\n",
        "      <td> Bridgeport, CT</td>\n",
        "      <td>   (41.1818843100005, -73.19126911399962)</td>\n",
        "    </tr>\n",
        "    <tr>\n",
        "      <th>3</th>\n",
        "      <td>  Cambridge, MA</td>\n",
        "      <td>  19</td>\n",
        "      <td> Cambridge, MA\\n(42.36679009800048, -71.1060094...</td>\n",
        "      <td>  Cambridge, MA</td>\n",
        "      <td>  (42.36679009800048, -71.10600946299962)</td>\n",
        "    </tr>\n",
        "    <tr>\n",
        "      <th>4</th>\n",
        "      <td> Fall River, MA</td>\n",
        "      <td>  20</td>\n",
        "      <td> Fall River, MA\\n(41.697354146000464, -71.14364...</td>\n",
        "      <td> Fall River, MA</td>\n",
        "      <td> (41.697354146000464, -71.14364572399967)</td>\n",
        "    </tr>\n",
        "    <tr>\n",
        "      <th>5</th>\n",
        "      <td>   Hartford, CT</td>\n",
        "      <td>  45</td>\n",
        "      <td> Hartford, CT\\n(41.763493388000484, -72.6740172...</td>\n",
        "      <td>   Hartford, CT</td>\n",
        "      <td> (41.763493388000484, -72.67401728199962)</td>\n",
        "    </tr>\n",
        "  </tbody>\n",
        "</table>\n",
        "<p>5 rows \u00d7 5 columns</p>\n",
        "</div>"
       ],
       "metadata": {},
       "output_type": "pyout",
       "prompt_number": 35,
       "text": [
        "             area  deaths                                                loc  \\\n",
        "1      Boston, MA     108  Boston, MA\\n(42.35866170200046, -71.0567388769...   \n",
        "2  Bridgeport, CT      42  Bridgeport, CT\\n(41.1818843100005, -73.1912691...   \n",
        "3   Cambridge, MA      19  Cambridge, MA\\n(42.36679009800048, -71.1060094...   \n",
        "4  Fall River, MA      20  Fall River, MA\\n(41.697354146000464, -71.14364...   \n",
        "5    Hartford, CT      45  Hartford, CT\\n(41.763493388000484, -72.6740172...   \n",
        "\n",
        "                1                                         2  \n",
        "1      Boston, MA   (42.35866170200046, -71.05673887699965)  \n",
        "2  Bridgeport, CT    (41.1818843100005, -73.19126911399962)  \n",
        "3   Cambridge, MA   (42.36679009800048, -71.10600946299962)  \n",
        "4  Fall River, MA  (41.697354146000464, -71.14364572399967)  \n",
        "5    Hartford, CT  (41.763493388000484, -72.67401728199962)  \n",
        "\n",
        "[5 rows x 5 columns]"
       ]
      }
     ],
     "prompt_number": 35
    },
    {
     "cell_type": "markdown",
     "metadata": {},
     "source": [
      "Nice. We're doing well. Note that we split on the new-line string, but we'll still need to split the second new column by ', '. So let's get ourselves set up."
     ]
    },
    {
     "cell_type": "code",
     "collapsed": false,
     "input": [
      "d_loc2 = split_col(d_loc, 'loc', '\\n', 'area2', 'll')\n",
      "d_loc3 = split_col(d_loc2, 'll', ', ', 'lat', 'long')\n",
      "d_loc3[:5]"
     ],
     "language": "python",
     "metadata": {},
     "outputs": [
      {
       "html": [
        "<div style=\"max-height:1000px;max-width:1500px;overflow:auto;\">\n",
        "<table border=\"1\" class=\"dataframe\">\n",
        "  <thead>\n",
        "    <tr style=\"text-align: right;\">\n",
        "      <th></th>\n",
        "      <th>area</th>\n",
        "      <th>deaths</th>\n",
        "      <th>loc</th>\n",
        "      <th>1</th>\n",
        "      <th>2</th>\n",
        "      <th>area2</th>\n",
        "      <th>ll</th>\n",
        "      <th>lat</th>\n",
        "      <th>long</th>\n",
        "    </tr>\n",
        "  </thead>\n",
        "  <tbody>\n",
        "    <tr>\n",
        "      <th>1</th>\n",
        "      <td>     Boston, MA</td>\n",
        "      <td> 108</td>\n",
        "      <td> Boston, MA\\n(42.35866170200046, -71.0567388769...</td>\n",
        "      <td>     Boston, MA</td>\n",
        "      <td>  (42.35866170200046, -71.05673887699965)</td>\n",
        "      <td>     Boston, MA</td>\n",
        "      <td>  (42.35866170200046, -71.05673887699965)</td>\n",
        "      <td>  (42.35866170200046</td>\n",
        "      <td> -71.05673887699965)</td>\n",
        "    </tr>\n",
        "    <tr>\n",
        "      <th>2</th>\n",
        "      <td> Bridgeport, CT</td>\n",
        "      <td>  42</td>\n",
        "      <td> Bridgeport, CT\\n(41.1818843100005, -73.1912691...</td>\n",
        "      <td> Bridgeport, CT</td>\n",
        "      <td>   (41.1818843100005, -73.19126911399962)</td>\n",
        "      <td> Bridgeport, CT</td>\n",
        "      <td>   (41.1818843100005, -73.19126911399962)</td>\n",
        "      <td>   (41.1818843100005</td>\n",
        "      <td> -73.19126911399962)</td>\n",
        "    </tr>\n",
        "    <tr>\n",
        "      <th>3</th>\n",
        "      <td>  Cambridge, MA</td>\n",
        "      <td>  19</td>\n",
        "      <td> Cambridge, MA\\n(42.36679009800048, -71.1060094...</td>\n",
        "      <td>  Cambridge, MA</td>\n",
        "      <td>  (42.36679009800048, -71.10600946299962)</td>\n",
        "      <td>  Cambridge, MA</td>\n",
        "      <td>  (42.36679009800048, -71.10600946299962)</td>\n",
        "      <td>  (42.36679009800048</td>\n",
        "      <td> -71.10600946299962)</td>\n",
        "    </tr>\n",
        "    <tr>\n",
        "      <th>4</th>\n",
        "      <td> Fall River, MA</td>\n",
        "      <td>  20</td>\n",
        "      <td> Fall River, MA\\n(41.697354146000464, -71.14364...</td>\n",
        "      <td> Fall River, MA</td>\n",
        "      <td> (41.697354146000464, -71.14364572399967)</td>\n",
        "      <td> Fall River, MA</td>\n",
        "      <td> (41.697354146000464, -71.14364572399967)</td>\n",
        "      <td> (41.697354146000464</td>\n",
        "      <td> -71.14364572399967)</td>\n",
        "    </tr>\n",
        "    <tr>\n",
        "      <th>5</th>\n",
        "      <td>   Hartford, CT</td>\n",
        "      <td>  45</td>\n",
        "      <td> Hartford, CT\\n(41.763493388000484, -72.6740172...</td>\n",
        "      <td>   Hartford, CT</td>\n",
        "      <td> (41.763493388000484, -72.67401728199962)</td>\n",
        "      <td>   Hartford, CT</td>\n",
        "      <td> (41.763493388000484, -72.67401728199962)</td>\n",
        "      <td> (41.763493388000484</td>\n",
        "      <td> -72.67401728199962)</td>\n",
        "    </tr>\n",
        "  </tbody>\n",
        "</table>\n",
        "<p>5 rows \u00d7 9 columns</p>\n",
        "</div>"
       ],
       "metadata": {},
       "output_type": "pyout",
       "prompt_number": 36,
       "text": [
        "             area  deaths                                                loc  \\\n",
        "1      Boston, MA     108  Boston, MA\\n(42.35866170200046, -71.0567388769...   \n",
        "2  Bridgeport, CT      42  Bridgeport, CT\\n(41.1818843100005, -73.1912691...   \n",
        "3   Cambridge, MA      19  Cambridge, MA\\n(42.36679009800048, -71.1060094...   \n",
        "4  Fall River, MA      20  Fall River, MA\\n(41.697354146000464, -71.14364...   \n",
        "5    Hartford, CT      45  Hartford, CT\\n(41.763493388000484, -72.6740172...   \n",
        "\n",
        "                1                                         2           area2  \\\n",
        "1      Boston, MA   (42.35866170200046, -71.05673887699965)      Boston, MA   \n",
        "2  Bridgeport, CT    (41.1818843100005, -73.19126911399962)  Bridgeport, CT   \n",
        "3   Cambridge, MA   (42.36679009800048, -71.10600946299962)   Cambridge, MA   \n",
        "4  Fall River, MA  (41.697354146000464, -71.14364572399967)  Fall River, MA   \n",
        "5    Hartford, CT  (41.763493388000484, -72.67401728199962)    Hartford, CT   \n",
        "\n",
        "                                         ll                  lat  \\\n",
        "1   (42.35866170200046, -71.05673887699965)   (42.35866170200046   \n",
        "2    (41.1818843100005, -73.19126911399962)    (41.1818843100005   \n",
        "3   (42.36679009800048, -71.10600946299962)   (42.36679009800048   \n",
        "4  (41.697354146000464, -71.14364572399967)  (41.697354146000464   \n",
        "5  (41.763493388000484, -72.67401728199962)  (41.763493388000484   \n",
        "\n",
        "                  long  \n",
        "1  -71.05673887699965)  \n",
        "2  -73.19126911399962)  \n",
        "3  -71.10600946299962)  \n",
        "4  -71.14364572399967)  \n",
        "5  -72.67401728199962)  \n",
        "\n",
        "[5 rows x 9 columns]"
       ]
      }
     ],
     "prompt_number": 36
    },
    {
     "cell_type": "markdown",
     "metadata": {},
     "source": [
      "We (alright, I) made a bit of a goof leaving the '(' and ')' in the lat and long columns (as well as apparently splitting the column twice, meh). Welp, taking care of that:"
     ]
    },
    {
     "cell_type": "code",
     "collapsed": false,
     "input": [
      "d_loc3['lat'] = d_loc3['lat'].str.replace('(', '')\n",
      "d_loc3['long'] = d_loc3['long'].str.replace(')', '')\n",
      "d_loc3 = d_loc3[['area', 'deaths', 'lat', 'long']]\n",
      "d_loc3[:5]"
     ],
     "language": "python",
     "metadata": {},
     "outputs": [
      {
       "html": [
        "<div style=\"max-height:1000px;max-width:1500px;overflow:auto;\">\n",
        "<table border=\"1\" class=\"dataframe\">\n",
        "  <thead>\n",
        "    <tr style=\"text-align: right;\">\n",
        "      <th></th>\n",
        "      <th>area</th>\n",
        "      <th>deaths</th>\n",
        "      <th>lat</th>\n",
        "      <th>long</th>\n",
        "    </tr>\n",
        "  </thead>\n",
        "  <tbody>\n",
        "    <tr>\n",
        "      <th>1</th>\n",
        "      <td>     Boston, MA</td>\n",
        "      <td> 108</td>\n",
        "      <td>  42.35866170200046</td>\n",
        "      <td> -71.05673887699965</td>\n",
        "    </tr>\n",
        "    <tr>\n",
        "      <th>2</th>\n",
        "      <td> Bridgeport, CT</td>\n",
        "      <td>  42</td>\n",
        "      <td>   41.1818843100005</td>\n",
        "      <td> -73.19126911399962</td>\n",
        "    </tr>\n",
        "    <tr>\n",
        "      <th>3</th>\n",
        "      <td>  Cambridge, MA</td>\n",
        "      <td>  19</td>\n",
        "      <td>  42.36679009800048</td>\n",
        "      <td> -71.10600946299962</td>\n",
        "    </tr>\n",
        "    <tr>\n",
        "      <th>4</th>\n",
        "      <td> Fall River, MA</td>\n",
        "      <td>  20</td>\n",
        "      <td> 41.697354146000464</td>\n",
        "      <td> -71.14364572399967</td>\n",
        "    </tr>\n",
        "    <tr>\n",
        "      <th>5</th>\n",
        "      <td>   Hartford, CT</td>\n",
        "      <td>  45</td>\n",
        "      <td> 41.763493388000484</td>\n",
        "      <td> -72.67401728199962</td>\n",
        "    </tr>\n",
        "  </tbody>\n",
        "</table>\n",
        "<p>5 rows \u00d7 4 columns</p>\n",
        "</div>"
       ],
       "metadata": {},
       "output_type": "pyout",
       "prompt_number": 37,
       "text": [
        "             area  deaths                 lat                long\n",
        "1      Boston, MA     108   42.35866170200046  -71.05673887699965\n",
        "2  Bridgeport, CT      42    41.1818843100005  -73.19126911399962\n",
        "3   Cambridge, MA      19   42.36679009800048  -71.10600946299962\n",
        "4  Fall River, MA      20  41.697354146000464  -71.14364572399967\n",
        "5    Hartford, CT      45  41.763493388000484  -72.67401728199962\n",
        "\n",
        "[5 rows x 4 columns]"
       ]
      }
     ],
     "prompt_number": 37
    },
    {
     "cell_type": "markdown",
     "metadata": {},
     "source": [
      "Word. It's happening now."
     ]
    },
    {
     "cell_type": "markdown",
     "metadata": {},
     "source": [
      "Now, for a little bit of a cheater-y thing. While testing this, I found that trying to go nuts and turn the lat and long columns into floats will give me a big ol' nasty error message. The reason it doesn't work is because not all the data is in a format that can be converted. After much faffing about, I found that there is at least one row with long and lat of empty strings. So let's drop those suckers. "
     ]
    },
    {
     "cell_type": "code",
     "collapsed": false,
     "input": [
      "to_drop = [row for row in d_loc3.index if d_loc3['long'].ix[row] == '']\n",
      "d_loc4 = d_loc3.drop(to_drop, axis = 0)"
     ],
     "language": "python",
     "metadata": {},
     "outputs": [],
     "prompt_number": 38
    },
    {
     "cell_type": "markdown",
     "metadata": {},
     "source": [
      "Just to make sure we didn't screw up in a big way:"
     ]
    },
    {
     "cell_type": "code",
     "collapsed": false,
     "input": [
      "d_loc4[:5]"
     ],
     "language": "python",
     "metadata": {},
     "outputs": [
      {
       "html": [
        "<div style=\"max-height:1000px;max-width:1500px;overflow:auto;\">\n",
        "<table border=\"1\" class=\"dataframe\">\n",
        "  <thead>\n",
        "    <tr style=\"text-align: right;\">\n",
        "      <th></th>\n",
        "      <th>area</th>\n",
        "      <th>deaths</th>\n",
        "      <th>lat</th>\n",
        "      <th>long</th>\n",
        "    </tr>\n",
        "  </thead>\n",
        "  <tbody>\n",
        "    <tr>\n",
        "      <th>1</th>\n",
        "      <td>     Boston, MA</td>\n",
        "      <td> 108</td>\n",
        "      <td>  42.35866170200046</td>\n",
        "      <td> -71.05673887699965</td>\n",
        "    </tr>\n",
        "    <tr>\n",
        "      <th>2</th>\n",
        "      <td> Bridgeport, CT</td>\n",
        "      <td>  42</td>\n",
        "      <td>   41.1818843100005</td>\n",
        "      <td> -73.19126911399962</td>\n",
        "    </tr>\n",
        "    <tr>\n",
        "      <th>3</th>\n",
        "      <td>  Cambridge, MA</td>\n",
        "      <td>  19</td>\n",
        "      <td>  42.36679009800048</td>\n",
        "      <td> -71.10600946299962</td>\n",
        "    </tr>\n",
        "    <tr>\n",
        "      <th>4</th>\n",
        "      <td> Fall River, MA</td>\n",
        "      <td>  20</td>\n",
        "      <td> 41.697354146000464</td>\n",
        "      <td> -71.14364572399967</td>\n",
        "    </tr>\n",
        "    <tr>\n",
        "      <th>5</th>\n",
        "      <td>   Hartford, CT</td>\n",
        "      <td>  45</td>\n",
        "      <td> 41.763493388000484</td>\n",
        "      <td> -72.67401728199962</td>\n",
        "    </tr>\n",
        "  </tbody>\n",
        "</table>\n",
        "<p>5 rows \u00d7 4 columns</p>\n",
        "</div>"
       ],
       "metadata": {},
       "output_type": "pyout",
       "prompt_number": 39,
       "text": [
        "             area  deaths                 lat                long\n",
        "1      Boston, MA     108   42.35866170200046  -71.05673887699965\n",
        "2  Bridgeport, CT      42    41.1818843100005  -73.19126911399962\n",
        "3   Cambridge, MA      19   42.36679009800048  -71.10600946299962\n",
        "4  Fall River, MA      20  41.697354146000464  -71.14364572399967\n",
        "5    Hartford, CT      45  41.763493388000484  -72.67401728199962\n",
        "\n",
        "[5 rows x 4 columns]"
       ]
      }
     ],
     "prompt_number": 39
    },
    {
     "cell_type": "markdown",
     "metadata": {},
     "source": [
      "Now to turn the lat and long columns data into numbers."
     ]
    },
    {
     "cell_type": "code",
     "collapsed": false,
     "input": [
      "d_loc4['lat'] = d_loc4['lat'].astype(float)\n",
      "d_loc4['long'] = d_loc4['long'].astype(float)"
     ],
     "language": "python",
     "metadata": {},
     "outputs": [],
     "prompt_number": 40
    },
    {
     "cell_type": "markdown",
     "metadata": {},
     "source": [
      "Now we're ready to start using Basemap. So let's do a little of that. Some of the techniques we'll use are detailed well in these tutorials: https://peak5390.wordpress.com/2012/12/08/matplotlib-basemap-tutorial-plotting-points-on-a-simple-map/, http://matplotlib.org/basemap/users/examples.html."
     ]
    },
    {
     "cell_type": "markdown",
     "metadata": {},
     "source": [
      "A real quick look at what you can do with Basemap:"
     ]
    },
    {
     "cell_type": "code",
     "collapsed": false,
     "input": [
      "map = Basemap(projection='ortho', lat_0=45, lon_0=-100, resolution='l')\n",
      "map.drawcoastlines(linewidth=0.25)\n",
      "map.drawcountries(linewidth=0.25)\n",
      "map.fillcontinents(color='coral')\n",
      "plt.show()"
     ],
     "language": "python",
     "metadata": {},
     "outputs": [
      {
       "metadata": {},
       "output_type": "display_data",
       "png": "[encoded data removed]",
       "text": [
        "<matplotlib.figure.Figure at 0x7f92de02af10>"
       ]
      }
     ],
     "prompt_number": 41
    },
    {
     "cell_type": "markdown",
     "metadata": {},
     "source": [
      "Word. So since we're just looking at the US, we can specify the edges of the map to reflect that, and we'll use the mercator projection because it's easy to work with (even though it's a terrible projection)."
     ]
    },
    {
     "cell_type": "markdown",
     "metadata": {},
     "source": [
      "As we love to do, let's write a function to be be able to quickly call up new maps."
     ]
    },
    {
     "cell_type": "code",
     "collapsed": false,
     "input": [
      "def test_map(x1, y1, x2, y2):\n",
      "    ''' x1,y1 for lower left corner long and lat\n",
      "        x2,y2 for upper right corner long and lat'''\n",
      "    \n",
      "    map = Basemap(projection='merc', \n",
      "        lat_0 = (y1 + y2)/2, lon_0 = (x1 + x2)/2,\n",
      "        resolution = 'h', area_thresh = 0.1,\n",
      "        llcrnrlon=x1, llcrnrlat=y1,\n",
      "        urcrnrlon=x2, urcrnrlat=y2)\n",
      " \n",
      "    map.drawcoastlines()\n",
      "    map.drawcountries()\n",
      "    map.drawstates()\n",
      "    map.fillcontinents(color = 'coral')\n",
      "    map.drawmapboundary()"
     ],
     "language": "python",
     "metadata": {},
     "outputs": [],
     "prompt_number": 42
    },
    {
     "cell_type": "code",
     "collapsed": false,
     "input": [
      "test_map(-135., 20., -60., 50.)"
     ],
     "language": "python",
     "metadata": {},
     "outputs": [
      {
       "metadata": {},
       "output_type": "display_data",
       "png": "[encoded data removed]",
       "text": [
        "<matplotlib.figure.Figure at 0x7f92de30ff50>"
       ]
      }
     ],
     "prompt_number": 43
    },
    {
     "cell_type": "markdown",
     "metadata": {},
     "source": [
      "I should note: some of these map edges I'm looking up, some of them are best found through trial and error. "
     ]
    },
    {
     "cell_type": "markdown",
     "metadata": {},
     "source": [
      "Let's limit our map to just cover California (objectively the best state), and see if we can plot the reporting areas in that state."
     ]
    },
    {
     "cell_type": "code",
     "collapsed": false,
     "input": [
      "test_map(-125., 32., -114., 42.5)"
     ],
     "language": "python",
     "metadata": {},
     "outputs": [
      {
       "metadata": {},
       "output_type": "display_data",
       "png": "[encoded data removed]",
       "text": [
        "<matplotlib.figure.Figure at 0x7f92d69b7810>"
       ]
      }
     ],
     "prompt_number": 44
    },
    {
     "cell_type": "markdown",
     "metadata": {},
     "source": [
      "....Yeah, I didn't just pull that out of a hat, you're getting the abridged version (you're welcome). "
     ]
    },
    {
     "cell_type": "markdown",
     "metadata": {},
     "source": [
      "So, let's get the data out of d_loc4 that are in CA. "
     ]
    },
    {
     "cell_type": "code",
     "collapsed": false,
     "input": [
      "d_loc_states = split_col(d_loc4, 'area', ', ', 'city', 'state')\n",
      "d_loc_states[:5]"
     ],
     "language": "python",
     "metadata": {},
     "outputs": [
      {
       "html": [
        "<div style=\"max-height:1000px;max-width:1500px;overflow:auto;\">\n",
        "<table border=\"1\" class=\"dataframe\">\n",
        "  <thead>\n",
        "    <tr style=\"text-align: right;\">\n",
        "      <th></th>\n",
        "      <th>area</th>\n",
        "      <th>deaths</th>\n",
        "      <th>lat</th>\n",
        "      <th>long</th>\n",
        "      <th>city</th>\n",
        "      <th>state</th>\n",
        "    </tr>\n",
        "  </thead>\n",
        "  <tbody>\n",
        "    <tr>\n",
        "      <th>1</th>\n",
        "      <td>     Boston, MA</td>\n",
        "      <td> 108</td>\n",
        "      <td> 42.358662</td>\n",
        "      <td>-71.056739</td>\n",
        "      <td>     Boston</td>\n",
        "      <td> MA</td>\n",
        "    </tr>\n",
        "    <tr>\n",
        "      <th>2</th>\n",
        "      <td> Bridgeport, CT</td>\n",
        "      <td>  42</td>\n",
        "      <td> 41.181884</td>\n",
        "      <td>-73.191269</td>\n",
        "      <td> Bridgeport</td>\n",
        "      <td> CT</td>\n",
        "    </tr>\n",
        "    <tr>\n",
        "      <th>3</th>\n",
        "      <td>  Cambridge, MA</td>\n",
        "      <td>  19</td>\n",
        "      <td> 42.366790</td>\n",
        "      <td>-71.106009</td>\n",
        "      <td>  Cambridge</td>\n",
        "      <td> MA</td>\n",
        "    </tr>\n",
        "    <tr>\n",
        "      <th>4</th>\n",
        "      <td> Fall River, MA</td>\n",
        "      <td>  20</td>\n",
        "      <td> 41.697354</td>\n",
        "      <td>-71.143646</td>\n",
        "      <td> Fall River</td>\n",
        "      <td> MA</td>\n",
        "    </tr>\n",
        "    <tr>\n",
        "      <th>5</th>\n",
        "      <td>   Hartford, CT</td>\n",
        "      <td>  45</td>\n",
        "      <td> 41.763493</td>\n",
        "      <td>-72.674017</td>\n",
        "      <td>   Hartford</td>\n",
        "      <td> CT</td>\n",
        "    </tr>\n",
        "  </tbody>\n",
        "</table>\n",
        "<p>5 rows \u00d7 6 columns</p>\n",
        "</div>"
       ],
       "metadata": {},
       "output_type": "pyout",
       "prompt_number": 45,
       "text": [
        "             area  deaths        lat       long        city state\n",
        "1      Boston, MA     108  42.358662 -71.056739      Boston    MA\n",
        "2  Bridgeport, CT      42  41.181884 -73.191269  Bridgeport    CT\n",
        "3   Cambridge, MA      19  42.366790 -71.106009   Cambridge    MA\n",
        "4  Fall River, MA      20  41.697354 -71.143646  Fall River    MA\n",
        "5    Hartford, CT      45  41.763493 -72.674017    Hartford    CT\n",
        "\n",
        "[5 rows x 6 columns]"
       ]
      }
     ],
     "prompt_number": 45
    },
    {
     "cell_type": "code",
     "collapsed": false,
     "input": [
      "cali = d_loc_states.drop([row for row in d_loc_states.index \n",
      "                     if d_loc_states['state'].ix[row] != 'CA'])\n",
      "cali[:5]"
     ],
     "language": "python",
     "metadata": {},
     "outputs": [
      {
       "html": [
        "<div style=\"max-height:1000px;max-width:1500px;overflow:auto;\">\n",
        "<table border=\"1\" class=\"dataframe\">\n",
        "  <thead>\n",
        "    <tr style=\"text-align: right;\">\n",
        "      <th></th>\n",
        "      <th>area</th>\n",
        "      <th>deaths</th>\n",
        "      <th>lat</th>\n",
        "      <th>long</th>\n",
        "      <th>city</th>\n",
        "      <th>state</th>\n",
        "    </tr>\n",
        "  </thead>\n",
        "  <tbody>\n",
        "    <tr>\n",
        "      <th>115</th>\n",
        "      <td>    Berkeley, CA</td>\n",
        "      <td>  15</td>\n",
        "      <td> 37.869884</td>\n",
        "      <td>-122.270539</td>\n",
        "      <td>    Berkeley</td>\n",
        "      <td> CA</td>\n",
        "    </tr>\n",
        "    <tr>\n",
        "      <th>116</th>\n",
        "      <td>      Fresno, CA</td>\n",
        "      <td> 137</td>\n",
        "      <td> 36.740680</td>\n",
        "      <td>-119.785728</td>\n",
        "      <td>      Fresno</td>\n",
        "      <td> CA</td>\n",
        "    </tr>\n",
        "    <tr>\n",
        "      <th>117</th>\n",
        "      <td>    Glendale, CA</td>\n",
        "      <td>  29</td>\n",
        "      <td> 34.146333</td>\n",
        "      <td>-118.248640</td>\n",
        "      <td>    Glendale</td>\n",
        "      <td> CA</td>\n",
        "    </tr>\n",
        "    <tr>\n",
        "      <th>119</th>\n",
        "      <td>  Long Beach, CA</td>\n",
        "      <td>  55</td>\n",
        "      <td> 33.766724</td>\n",
        "      <td>-118.192397</td>\n",
        "      <td>  Long Beach</td>\n",
        "      <td> CA</td>\n",
        "    </tr>\n",
        "    <tr>\n",
        "      <th>120</th>\n",
        "      <td> Los Angeles, CA</td>\n",
        "      <td> 224</td>\n",
        "      <td> 34.053491</td>\n",
        "      <td>-118.245317</td>\n",
        "      <td> Los Angeles</td>\n",
        "      <td> CA</td>\n",
        "    </tr>\n",
        "  </tbody>\n",
        "</table>\n",
        "<p>5 rows \u00d7 6 columns</p>\n",
        "</div>"
       ],
       "metadata": {},
       "output_type": "pyout",
       "prompt_number": 46,
       "text": [
        "                area  deaths        lat        long         city state\n",
        "115     Berkeley, CA      15  37.869884 -122.270539     Berkeley    CA\n",
        "116       Fresno, CA     137  36.740680 -119.785728       Fresno    CA\n",
        "117     Glendale, CA      29  34.146333 -118.248640     Glendale    CA\n",
        "119   Long Beach, CA      55  33.766724 -118.192397   Long Beach    CA\n",
        "120  Los Angeles, CA     224  34.053491 -118.245317  Los Angeles    CA\n",
        "\n",
        "[5 rows x 6 columns]"
       ]
      }
     ],
     "prompt_number": 46
    },
    {
     "cell_type": "markdown",
     "metadata": {},
     "source": [
      "Kool and the Gang. That's looking right. Let's see how many entries we have in this dataframe."
     ]
    },
    {
     "cell_type": "code",
     "collapsed": false,
     "input": [
      "cali.shape"
     ],
     "language": "python",
     "metadata": {},
     "outputs": [
      {
       "metadata": {},
       "output_type": "pyout",
       "prompt_number": 47,
       "text": [
        "(550, 6)"
       ]
      }
     ],
     "prompt_number": 47
    },
    {
     "cell_type": "markdown",
     "metadata": {},
     "source": [
      "550 entries eh? Well, since we only have data over 122 cities across the whole country, we can be reasonably sure that a lot of these are repeats. No biggie for us though. If there are repeats then they will be plotted over themselves for the moment. We may later want to optimize this and only plot one point per area. But not right now."
     ]
    },
    {
     "cell_type": "markdown",
     "metadata": {},
     "source": [
      "We're just going to jump right into writing our function for mapping an area and plotting points on it. Abridged version, remember?"
     ]
    },
    {
     "cell_type": "code",
     "collapsed": false,
     "input": [
      "def test_map2(lats, lons, msize = 12, \n",
      "              x1 = -125., y1 = 25., \n",
      "              x2 = -65, y2 = 50.):\n",
      "    ''' lons and lats are series or lists or longitude \n",
      "        and latitude respectively to plot on map\n",
      "        x1,y1 for lower left corner long and lat\n",
      "        x2,y2 for upper right corner long and lat\n",
      "        automatically set to map US, \n",
      "        because...you know...jingoism'''\n",
      "    \n",
      "    map = Basemap(projection='merc', \n",
      "        lat_0 = (y1 + y2)/2, lon_0 = (x1 + x2)/2,\n",
      "        resolution = 'h', area_thresh = 0.1,\n",
      "        llcrnrlon=x1, llcrnrlat=y1,\n",
      "        urcrnrlon=x2, urcrnrlat=y2)\n",
      " \n",
      "    map.drawcoastlines()\n",
      "    map.drawcountries()\n",
      "    map.drawstates()\n",
      "    map.fillcontinents(color = 'coral')\n",
      "    map.drawmapboundary()\n",
      "    \n",
      "    for x, y in zip(lons, lats):\n",
      "        x, y  = map(lons, lats)\n",
      "        map.plot(x, y, 'bo', markersize = msize)"
     ],
     "language": "python",
     "metadata": {},
     "outputs": [],
     "prompt_number": 48
    },
    {
     "cell_type": "markdown",
     "metadata": {},
     "source": [
      "Now let's take our latitude and longitude series and make lists from them to use with the function we just made."
     ]
    },
    {
     "cell_type": "code",
     "collapsed": false,
     "input": [
      "lats = [cali['lat'].loc[row] for row in cali.index]\n",
      "longs = [cali['long'].loc[row] for row in cali.index]"
     ],
     "language": "python",
     "metadata": {},
     "outputs": [],
     "prompt_number": 49
    },
    {
     "cell_type": "code",
     "collapsed": false,
     "input": [
      "test_map2(lats, longs, 5, -125., 32., -114., 42.5)"
     ],
     "language": "python",
     "metadata": {},
     "outputs": [
      {
       "metadata": {},
       "output_type": "display_data",
       "png": "[encoded data removed]",
       "text": [
        "<matplotlib.figure.Figure at 0x7f92dcfc9590>"
       ]
      }
     ],
     "prompt_number": 50
    },
    {
     "cell_type": "markdown",
     "metadata": {},
     "source": [
      "Cool, so now we've got a little visualization of the reporting areas in our data that are in California. We'll be able to build on this later to more easily compare cities' deaths, and their percentages of Pneumonia and Influenza related deaths. Should be fun... or, you know, as fun as death has a right to be."
     ]
    }
   ],
   "metadata": {}
  }
 ]
}